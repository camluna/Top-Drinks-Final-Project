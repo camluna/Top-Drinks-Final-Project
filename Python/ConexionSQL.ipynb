{
 "cells": [
  {
   "cell_type": "code",
   "execution_count": 5,
   "metadata": {},
   "outputs": [],
   "source": [
    "import pyodbc\n",
    "import pandas as pd"
   ]
  },
  {
   "cell_type": "markdown",
   "metadata": {},
   "source": [
    "Conexión a BD de SQL Server"
   ]
  },
  {
   "cell_type": "code",
   "execution_count": 4,
   "metadata": {},
   "outputs": [],
   "source": [
    "# Establece la cadena de conexión\n",
    "server = 'LAPTOP-CAMI\\SQLEXPRESS'\n",
    "database = 'Top_Drinks_DB'\n",
    "Driver= 'ODBC Driver 17 for SQL Server'\n",
    "cnxn_str = f'DRIVER={{{Driver}}};SERVER={server};DATABASE={database};Trusted_Connection=Yes;'\n",
    "\n",
    "# Conecta a la base de datos\n",
    "cnxn = pyodbc.connect(cnxn_str)\n",
    "\n",
    "# Crea un cursor\n",
    "cursor = cnxn.cursor()\n",
    "\n",
    "# Cierra el cursor y la conexión\n",
    "cursor.close()\n",
    "cnxn.close()\n"
   ]
  }
 ],
 "metadata": {
  "kernelspec": {
   "display_name": "Python 3",
   "language": "python",
   "name": "python3"
  },
  "language_info": {
   "codemirror_mode": {
    "name": "ipython",
    "version": 3
   },
   "file_extension": ".py",
   "mimetype": "text/x-python",
   "name": "python",
   "nbconvert_exporter": "python",
   "pygments_lexer": "ipython3",
   "version": "3.11.5"
  }
 },
 "nbformat": 4,
 "nbformat_minor": 2
}
