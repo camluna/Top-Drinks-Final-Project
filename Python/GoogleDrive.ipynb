{
 "cells": [
  {
   "cell_type": "code",
   "execution_count": 5,
   "metadata": {},
   "outputs": [],
   "source": [
    "from googleapiclient.http import MediaIoBaseDownload, MediaIoBaseUpload, MediaFileUpload\n",
    "from googleapiclient.discovery import build\n",
    "from google.oauth2 import service_account\n",
    "import os\n",
    "import tempfile\n",
    "import csv\n",
    "\n",
    "\n",
    "\n",
    "\n",
    "directorio_credenciales = \"data-424019-28bfddebf741.json\""
   ]
  },
  {
   "cell_type": "markdown",
   "metadata": {},
   "source": [
    "#### ingresar a google drive"
   ]
  },
  {
   "cell_type": "code",
   "execution_count": 2,
   "metadata": {},
   "outputs": [
    {
     "name": "stdout",
     "output_type": "stream",
     "text": [
      "Archivos en la carpeta:\n",
      "EndInvFINAL12312016_Clean.csv (1LZC95-7JDYt2xD1-4faQVhYiTtgtmDqZ)\n",
      "BegInvFINAL12312016_Clean.csv (1luNiPmNEalyKb_cxyibBHyi9Ex1krwGa)\n",
      "SalesFINAL12312016_Clean.csv (1C9BYLiRVENvtPYvXVjd4GC9xSeIV0WTW)\n",
      "PurchasesFINAL12312016_Clean.csv (11FvZTyzBBpIkr-WOIO6ocfQURpkMw-Jr)\n",
      "InvoicePurchases12312016_Clean.csv (1kR6vbb9ZUXowRfha6jMVhXnN8UJyj2mT)\n",
      "2017PurchasePricesDec_Clean.csv (1ALrqNvbvnr8aTKNdcC1mEfSq65Cg9tI-)\n"
     ]
    }
   ],
   "source": [
    "# Cargar credenciales desde el archivo JSON descargado\n",
    "credentials = service_account.Credentials.from_service_account_file(directorio_credenciales)\n",
    "\n",
    "# Crear cliente para acceder a la API de Google Drive\n",
    "drive_service = build('drive', 'v3', credentials=credentials)\n",
    "\n",
    "# ID de la carpeta en Google Drive\n",
    "folder_id = '1tZHS0BuJoSG3DsfSmxgY5Am3Llj24JPY'\n",
    "\n",
    "# Obtener lista de archivos en la carpeta especificada\n",
    "results = drive_service.files().list(q=f\"'{folder_id}' in parents\", fields='files(id, name)').execute()\n",
    "files = results.get('files', [])\n",
    "\n",
    "if not files:\n",
    "    print('No se encontraron archivos en la carpeta.')\n",
    "else:\n",
    "    print('Archivos en la carpeta:')\n",
    "    for file in files:\n",
    "        print(f'{file.get(\"name\")} ({file.get(\"id\")})')"
   ]
  },
  {
   "cell_type": "markdown",
   "metadata": {},
   "source": [
    "#### cambio de datos nulos y actualizacion del archivo"
   ]
  },
  {
   "cell_type": "markdown",
   "metadata": {},
   "source": []
  },
  {
   "cell_type": "code",
   "execution_count": 6,
   "metadata": {},
   "outputs": [
    {
     "name": "stdout",
     "output_type": "stream",
     "text": [
      "Descargado 100%.\n"
     ]
    },
    {
     "ename": "KeyboardInterrupt",
     "evalue": "",
     "output_type": "error",
     "traceback": [
      "\u001b[1;31m---------------------------------------------------------------------------\u001b[0m",
      "\u001b[1;31mKeyboardInterrupt\u001b[0m                         Traceback (most recent call last)",
      "Cell \u001b[1;32mIn[6], line 65\u001b[0m\n\u001b[0;32m     63\u001b[0m \u001b[38;5;28;01mwith\u001b[39;00m \u001b[38;5;28mopen\u001b[39m(download_path, \u001b[38;5;124m'\u001b[39m\u001b[38;5;124mw\u001b[39m\u001b[38;5;124m'\u001b[39m, newline\u001b[38;5;241m=\u001b[39m\u001b[38;5;124m'\u001b[39m\u001b[38;5;124m'\u001b[39m) \u001b[38;5;28;01mas\u001b[39;00m csvfile:\n\u001b[0;32m     64\u001b[0m     writer \u001b[38;5;241m=\u001b[39m csv\u001b[38;5;241m.\u001b[39mwriter(csvfile)\n\u001b[1;32m---> 65\u001b[0m     \u001b[43mwriter\u001b[49m\u001b[38;5;241;43m.\u001b[39;49m\u001b[43mwriterows\u001b[49m\u001b[43m(\u001b[49m\u001b[43mrows\u001b[49m\u001b[43m)\u001b[49m\n\u001b[0;32m     67\u001b[0m \u001b[38;5;28mprint\u001b[39m(\u001b[38;5;124mf\u001b[39m\u001b[38;5;124m\"\u001b[39m\u001b[38;5;124mDatos nulos rellenados para el archivo con ID: \u001b[39m\u001b[38;5;132;01m{\u001b[39;00mfile_id\u001b[38;5;132;01m}\u001b[39;00m\u001b[38;5;124m\"\u001b[39m)\n\u001b[0;32m     69\u001b[0m \u001b[38;5;66;03m# Actualizar el archivo existente en Google Drive con los cambios\u001b[39;00m\n",
      "\u001b[1;31mKeyboardInterrupt\u001b[0m: "
     ]
    }
   ],
   "source": [
    "# Directorio temporal para descargar y manipular archivos\n",
    "temp_dir = tempfile.gettempdir()\n",
    "\n",
    "# Función para obtener la marca de tiempo de un archivo en Google Drive\n",
    "def obtener_marca_de_tiempo_google_drive(file_id):\n",
    "    # Esta función debe ser implementada utilizando la API de Google Drive\n",
    "    # Aquí se ha colocado solo un esquema básico de la función\n",
    "    file_metadata = drive_service.files().get(fileId=file_id, fields='modifiedTime').execute()\n",
    "    modified_time = file_metadata.get('modifiedTime')\n",
    "    return modified_time\n",
    "\n",
    "# Función para obtener la marca de tiempo de la última ejecución del script\n",
    "def obtener_marca_de_tiempo_ultima_ejecucion():\n",
    "    if os.path.exists(\"ultima_ejecucion.txt\"):\n",
    "        with open(\"ultima_ejecucion.txt\", \"r\") as file:\n",
    "            last_execution_time = file.read().strip()\n",
    "            return last_execution_time\n",
    "    else:\n",
    "        # Si el archivo no existe, se asume que es la primera ejecución y se devuelve una marca de tiempo \"0\"\n",
    "        return \"0\"\n",
    "\n",
    "# Obtener la lista de archivos modificados mientras iteras sobre los archivos en la carpeta\n",
    "modified_files = []\n",
    "for file in files:\n",
    "    file_id = file['id']\n",
    "    modified_time = obtener_marca_de_tiempo_google_drive(file_id)\n",
    "    last_execution_time = obtener_marca_de_tiempo_ultima_ejecucion()  # Obtener la marca de tiempo de la última ejecución\n",
    "    if modified_time > last_execution_time:\n",
    "        modified_files.append(file_id)\n",
    "\n",
    "# Si no hay archivos modificados, detener el proceso\n",
    "if not modified_files:\n",
    "    print(\"No hay archivos modificados.\")\n",
    "    # Aquí puedes agregar cualquier acción adicional que necesites\n",
    "else:\n",
    "    # Ahora puedes usar la lista de archivos modificados en tu bucle\n",
    "    for file_id in modified_files:\n",
    "        try:\n",
    "            # Obtener el nombre del archivo original\n",
    "            file_metadata = drive_service.files().get(fileId=file_id, fields='name').execute()\n",
    "            file_name = file_metadata.get('name')\n",
    "\n",
    "            # Descargar el archivo original a la carpeta local temporalmente\n",
    "            download_path = os.path.join(temp_dir, file_name)\n",
    "            request = drive_service.files().get_media(fileId=file_id)\n",
    "            with open(download_path, 'wb') as fh:\n",
    "                downloader = MediaIoBaseDownload(fh, request)\n",
    "                done = False\n",
    "                while not done:\n",
    "                    status, done = downloader.next_chunk()\n",
    "                    print(f\"Descargado {int(status.progress() * 100)}%.\")\n",
    "\n",
    "            # Rellenar datos nulos con \"no definido\"\n",
    "            with open(download_path, newline='') as csvfile:\n",
    "                reader = csv.reader(csvfile)\n",
    "                rows = list(reader)\n",
    "                for row_index, row in enumerate(rows):\n",
    "                    for col_index, cell in enumerate(row):\n",
    "                        if not cell:\n",
    "                            rows[row_index][col_index] = \"no definido\"\n",
    "\n",
    "            # Guardar los cambios en el mismo archivo CSV\n",
    "            with open(download_path, 'w', newline='') as csvfile:\n",
    "                writer = csv.writer(csvfile)\n",
    "                writer.writerows(rows)\n",
    "\n",
    "            print(f\"Datos nulos rellenados para el archivo con ID: {file_id}\")\n",
    "\n",
    "            # Actualizar el archivo existente en Google Drive con los cambios\n",
    "            media = MediaFileUpload(download_path, resumable=True)\n",
    "            updated_file = drive_service.files().update(fileId=file_id, media_body=media).execute()\n",
    "            print('Archivo actualizado: %s' % file_id)\n",
    "        except Exception as e:\n",
    "            print('Error en el proceso: %s' % str(e))\n"
   ]
  }
 ],
 "metadata": {
  "kernelspec": {
   "display_name": "Python 3",
   "language": "python",
   "name": "python3"
  },
  "language_info": {
   "codemirror_mode": {
    "name": "ipython",
    "version": 3
   },
   "file_extension": ".py",
   "mimetype": "text/x-python",
   "name": "python",
   "nbconvert_exporter": "python",
   "pygments_lexer": "ipython3",
   "version": "3.12.3"
  }
 },
 "nbformat": 4,
 "nbformat_minor": 2
}
